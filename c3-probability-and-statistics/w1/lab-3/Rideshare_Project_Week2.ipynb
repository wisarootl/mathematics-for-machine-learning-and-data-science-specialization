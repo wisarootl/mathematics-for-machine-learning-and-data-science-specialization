{
 "cells": [
  {
   "cell_type": "markdown",
   "metadata": {
    "id": "NbHgrZs86Y6e"
   },
   "source": [
    "# Exploratory Data Analysis - Data Visualization and Summary Statistics\n",
    "\n",
    "Welcome to the third notebook of the exploratory data analysis (EDA) series. This notebook is a continuation of the rideshare notebook you used last week.\n",
    "\n",
    "For this notebook you will use the data on ridesharing in the year 2022 in the city of Chicago, which can be found [here](https://data.cityofchicago.org/Transportation/Transportation-Network-Providers-Trips/m6dm-c72p/data). You have already worked with this dataset in the previous week. This time you will continue working on the cleaned-up and reduced version of the dataset, which you prepared in the previous notebook.\n",
    "\n",
    "### Learning Objectives:\n",
    "In this notebook you will use the following concepts from the course in a practical setting:\n",
    " - Probability\n",
    " - Descriptive statistics (mean, median, standard deviation and quartiles)\n",
    " - Box plots\n",
    " - Joint distribution\n",
    " - Marginal distribution\n",
    " - Correlation\n"
   ]
  },
  {
   "cell_type": "markdown",
   "metadata": {
    "id": "BUmdnS4e6Y6g"
   },
   "source": [
    "# 1. Import the Python Libraries\n",
    "\n",
    "As usual, the first thing you need to do is import the libraries that you will use in this notebook."
   ]
  },
  {
   "cell_type": "code",
   "execution_count": null,
   "metadata": {},
   "outputs": [],
   "source": [
    "import pandas as pd\n",
    "import numpy as np\n",
    "import matplotlib.pyplot as plt\n",
    "\n",
    "# Library for displaying a map\n",
    "import folium \n",
    "from folium.plugins import FastMarkerCluster"
   ]
  },
  {
   "cell_type": "markdown",
   "metadata": {
    "id": "CmlrVEnd6Y6h"
   },
   "source": [
    "# 2. Load the Dataset\n",
    "\n",
    "The next step is to open the dataset. This is the reduced and cleaned-up version that you used in the previous notebook."
   ]
  },
  {
   "cell_type": "code",
   "execution_count": null,
   "metadata": {
    "id": "OD7tmLwb6Y6j"
   },
   "outputs": [],
   "source": [
    "# Open the dataset\n",
    "# Note the parse_dates parameter, which automatically saves the given columns as dates.\n",
    "df = pd.read_csv(\"data/rideshare_2022_cleaned.csv\", parse_dates=['trip_start_timestamp', 'date'])\n",
    "\n",
    "# Show the first few lines of the dataset\n",
    "df.head()"
   ]
  },
  {
   "cell_type": "markdown",
   "metadata": {
    "id": "j1dm9RddaOH5"
   },
   "source": [
    "# 3. Investigate the Summary Statistics\n",
    "\n",
    "To get a better grasp of the data it is very useful to learn a bit more about the values in each column. In the previous notebook you have already plotted some histograms of individual columns to see how the data is distributed. Now it's time to approach this more systematically. Let's look at the numeric values first. Pandas has a very useful function `.describe()`, which returns a new dataframe with summary statistics for each of the columns. Run the cell below to compute and display summary statistics for your dataset. The output is a new dataframe that contains the count, mean, standard deviation, minimum value, maximum value and 25%, 50% (median) and 75% quartiles for each of the columns. By now, you should be familiar with all of these statistics. If you need a refresher, check out the Week 2 Lesson 1 videos again. "
   ]
  },
  {
   "cell_type": "code",
   "execution_count": null,
   "metadata": {
    "id": "_oco5Fgh6Y61"
   },
   "outputs": [],
   "source": [
    "# Calculate and display the summary statistics\n",
    "df.describe()"
   ]
  },
  {
   "cell_type": "markdown",
   "metadata": {
    "id": "5nMgnk7vb7Sh"
   },
   "source": [
    "In the dataframe above, you can find a lot of useful information. Carefully inspect the contents of the table to understand the data better. The following questions may help you think about the insights you can get from the summary statistics presented in the table.\n",
    "1. Check the minimum and maximum value for each column. What are their values and how far apart are they? For example: What is the shortest and longest trip that was taken and what is the difference between them?\n",
    "2. What is mean value of each column? For example: What is the mean trip length? Is it closer to the minimum or maximum value?\n",
    "3. What is the standard deviation of each column? For example: how much do the trip lengths vary?\n",
    "4. Compare the quartiles and the mean. Is the mean above or below the median? How could you explain this (think of the shape of the histograms you saw in the previous notebook and look for long or heavy tails).\n",
    "\n",
    "Note that the first three questions all relate to the same column `trip_miles`. You can ask the same question about any column, for example: What is the mean/median/highest/lowest tip?"
   ]
  },
  {
   "cell_type": "markdown",
   "metadata": {
    "id": "cp92o4D66Y7O"
   },
   "source": [
    "## 3.1 Visualize the Summary Statistics Using Boxplots\n",
    "\n",
    "A great way to understand your data is to visualize it! A commonly used tool to display summary statistics is a boxplot. Fortunately, it is already integrated to `Pandas`, and you can simply draw it by using `DataFrame.boxplot()`. Remember that the box-plot involves infromation about all the quartiles and the maximum and minumum values of the variable, and it looks something like this\n",
    "\n",
    "![](./images/box-plot-screenshot.png)\n",
    "\n",
    "As with other plots, if you do not specify which variable, or column, you want to plot, it will plot all of them. Because the columns have very different values, it is better to plot one by one, so you can more easily see the information being communicated."
   ]
  },
  {
   "cell_type": "code",
   "execution_count": null,
   "metadata": {
    "id": "gWWzoUy_lPSu"
   },
   "outputs": [],
   "source": [
    "# Select the column which you want to plot. Change this for a different column name,\n",
    "# if you are interested in plotting other columns\n",
    "column_to_plot = 'fare'\n",
    "\n",
    "# Display the boxplot\n",
    "plt.figure()\n",
    "df.boxplot(column_to_plot)"
   ]
  },
  {
   "cell_type": "markdown",
   "metadata": {
    "id": "gqGiBrgln9vE"
   },
   "source": [
    "The blue box shows the interquartile range (IQR), and the horizontal blue lines in the box show the Q1, Q2 (median), and Q3 quartiles. You can see these three numbers in the dataframe above (25%, 50% and 75%). Check whether they align with the plot. The horizontal black lines outside the box show +/- 1.5 times IQR, which is the default range used to identify outliers. The individual datapoints plotted outside the lines are the outliers.\n",
    "\n",
    "In the case of `fare` you can see a lot of outlier points, can you figure out why? Remember the distribution of this variable"
   ]
  },
  {
   "cell_type": "code",
   "execution_count": null,
   "metadata": {},
   "outputs": [],
   "source": [
    "df.hist(column_to_plot, density=True)"
   ]
  },
  {
   "cell_type": "markdown",
   "metadata": {
    "id": "gqGiBrgln9vE"
   },
   "source": [
    "As you can see, this distribution is really heavy for smaller values, and has a really long tail, which is the values you are seeing as outliers.\n",
    "\n",
    "Go ahead and change the `column_to_plot` variable and plot the boxplots for other columns. Do they all have outliers only on one side? can you infer why?\n",
    "\n",
    "## 3.2 Visualize the Data on different weekdays\n",
    "\n",
    "If you want to split the data into subsets (for example for given days of the week) and plot a boxplot for each, you can easily do that using the parameter `by`. You just need to set it to the column name you want to use to split the data. Suppose you want to analize the `tip` variable by day of the week. Intuitively, what you are doing is creting classes according to the different days in `weekday`, and then analyzing the data for each of this classes. This way what you are actually doing is exploring the conditional distributions of a variable. In this case, you are looking at the tip given that it's a Monday, the tip given that it's a Tuesday, and so on."
   ]
  },
  {
   "cell_type": "code",
   "execution_count": null,
   "metadata": {},
   "outputs": [],
   "source": [
    "df.boxplot(column='tip', by='weekday')\n",
    "\n",
    "# Limit the plot in y direction. Comment this line of code to see full data\n",
    "plt.ylim(-2, 52)"
   ]
  },
  {
   "cell_type": "markdown",
   "metadata": {},
   "source": [
    "If you look closely, there are a couple of things that look a bit off in these boxplots. For example, what is happening with the Sunday data when you are looking at tips? It seems that there is no box in the boxplot. Also if you look more closely, the boxes that you see dont have a horizontal line in the middle. Why do you think this is happening? You can find a hint by thinking about the histogram of the tips that you saw in the previous notebook. Did the distribution have any interesting properties? If you don't remember what it looked like, feel free to create a new cell and draw the histogram. \n",
    "\n",
    "Another, more obvious, hint is in the summary statistics. Run the cell below to display them again, but this time you will do it just for the `tip` column, grouped by `weekday`."
   ]
  },
  {
   "cell_type": "code",
   "execution_count": null,
   "metadata": {},
   "outputs": [],
   "source": [
    "# Group the data by the day of the week, select the tip column and calculate the descriptive statistics.\n",
    "df.groupby('weekday')['tip'].describe()"
   ]
  },
  {
   "cell_type": "markdown",
   "metadata": {
    "id": "wdDhD8Sv7_LS"
   },
   "source": [
    "You can see that there are a lot of zeroes in this dataframe. Where do they all come from? It turns out that on Sunday more than 75% of the people did not tip. This makes the first three quartiles all show a zero, which is why you couldn't see a box on the boxplot. Remember that the size of the box is the distance between the values in the columns `25%` and `75%`. If these are both zero, the size of the box must also be zero.\n",
    "\n",
    "On the other days, however, less than 75% of the people did not tip, thus you have a nonzero value of the tip in the third quartile (in the column with name 75%). What does it mean for the plots? You have guessed it: the boxes appear. However, you still can't see the middle line and that is because the median (50% of the data) is the same as the first quaritle (25%), and thus the two lines overlap at zero.\n",
    "\n",
    "An interesting insight: on Sunday, all of the tips are outliers.\n",
    "\n",
    "Now, let's repeat the process but leave out non-tippers. This should give you a better understanding of the distribution of the actual tips."
   ]
  },
  {
   "cell_type": "code",
   "execution_count": null,
   "metadata": {
    "id": "X0jc57J3zbIv"
   },
   "outputs": [],
   "source": [
    "df_tippers = df[df['tip'] > 0]\n",
    "df_tippers.boxplot(column='tip', by='weekday')"
   ]
  },
  {
   "cell_type": "markdown",
   "metadata": {
    "id": "WphshSH43CnP"
   },
   "source": [
    "This plot gives you a better insight into the distribution of the tips that actually happened, however it misses an important piece of information: how many people do actually tip? You have calculated this already in the previous notebook.\n",
    "\n",
    "Imagine you are a driver. Is there any day of the week that you would like to drive more, as the tips are higher? \n",
    "Spliting by day of the week doesn't seem to have much of an impact to make this decision. Maybe you can have a look at the tips given different hours of day. Perhaps there is a higher chance of getitng tipped at a certain hour. Lets see if that's the case by running the cell below. For this, you will need to extract the hour of the trip for the `trip_start_timestamp` column, and save it on a new column in the dataframe."
   ]
  },
  {
   "cell_type": "code",
   "execution_count": null,
   "metadata": {
    "id": "Kuq8qMpRDSBc"
   },
   "outputs": [],
   "source": [
    "# Add a column for the hour of day to the dataframe\n",
    "df[\"hour\"] = df[\"trip_start_timestamp\"].apply(lambda x: x.hour)\n",
    "# Select only the tippers\n",
    "df_tippers = df[df['tip'] > 0]\n",
    "\n",
    "# Plot the boxplot of tips for each hour\n",
    "plt.figure()\n",
    "df_tippers.boxplot(column='tip', by='hour')\n",
    "plt.ylim(-2, 52)\n",
    "\n",
    "# Calculate the percentage of tippers\n",
    "percentage_of_tippers_hourly = df_tippers.groupby([\"hour\"])[\"tip\"].count() / df.groupby([\"hour\"])[\"tip\"].count() * 100\n",
    "\n",
    "# Plot the percentage of tippers\n",
    "plt.figure()\n",
    "percentage_of_tippers_hourly.plot(marker=\"o\", title=\"Percentage of Tippers\")"
   ]
  },
  {
   "cell_type": "markdown",
   "metadata": {
    "id": "j8eqnSKz6Y9i"
   },
   "source": [
    "It seems like the tips are slightly higher in the morning hours. But why would the tips be higher in the early morning? Maybe this has to do with the hour of day, perhaps people feel more empathy in the morning. Before you jump to this conclusion, however, let's see if there's any other explanations worth considering.\n",
    "\n",
    "Let's see if you can get any any extra information by looking at the the lenght of the trip. Plot the length of the trip next to see how it changes through the day:"
   ]
  },
  {
   "cell_type": "code",
   "execution_count": null,
   "metadata": {},
   "outputs": [],
   "source": [
    "df.boxplot(column='trip_miles', by='hour')\n",
    "plt.ylim(-10, 210)"
   ]
  },
  {
   "cell_type": "markdown",
   "metadata": {},
   "source": [
    "As you can see the trips are longer in the early morning hours. Now this is getting interesting. Maybe this is the reason for the higher average tips? Run the next cell to plot a scatter plot of `trip_miles` vs `tip`. Remember that you are only looking at the tippers (no tippers would just contribute to many additional points at tip=0)."
   ]
  },
  {
   "cell_type": "code",
   "execution_count": null,
   "metadata": {},
   "outputs": [],
   "source": [
    "df_tippers.plot(kind='scatter', x='trip_miles', y='tip', marker=\".\")"
   ]
  },
  {
   "cell_type": "markdown",
   "metadata": {
    "id": "rTzNZQFthjvn"
   },
   "source": [
    "Can you say something about the correlation between these two variables?  Remember that the correation was a scaled version of the Covariance, that was scaled to have range between -1 and 1\n",
    "<img src=\"./images/corr_coef_screenshot.png\" width=400)>\n",
    "\n",
    "The plot suggests that the riders pay higher tips for longer rides, which would imply a positive correlation. However the correlation is not that obvious, so the correlation will be positive, but not close 1. This correlation makes sense, as longer rides also cost more and thus the tips are likely to be higher. \n",
    "\n",
    "You can actually measure the correlation between the two variables using Pandas. Let's do it in the cell below!"
   ]
  },
  {
   "cell_type": "code",
   "execution_count": null,
   "metadata": {},
   "outputs": [],
   "source": [
    "(df_tippers.tip).corr(df_tippers.trip_miles)"
   ]
  },
  {
   "cell_type": "markdown",
   "metadata": {},
   "source": [
    "You got a correlation of 0.637. Remember that 0 correlation means no correlation at all, while correlation 1 means a perfect linear relationship, with positive slope. In this case, as predicted you get a value somewhere in between, being slightly above 0.5. You could say this is a modeate correlation between variables. "
   ]
  },
  {
   "cell_type": "markdown",
   "metadata": {
    "id": "rTzNZQFthjvn"
   },
   "source": [
    "Now try changing the variables in the plot above to see other columns. For example, you can plot `tip` against `fare`. How does it compare with the `tip` against `trip_miles` plot? Try also checking the correlation and making a comparison. \n",
    "\n",
    "# 4. Check the Locations of Rides\n",
    "\n",
    "Another thing you might want to know is where the rides usually start. The dataset contains the columns \"Pickup Centroid Latitude\", \"Pickup Centroid Longitude\", \"Dropoff Centroid Latitude\", and \"Dropoff Centroid Longitude\", which tell you the locations of the pickup and dropoff respectively.\n",
    "\n",
    "Run the cell below to plot the geographical distribution of the pickup locations."
   ]
  },
  {
   "cell_type": "code",
   "execution_count": null,
   "metadata": {},
   "outputs": [],
   "source": [
    "# Select the columns you want to plot\n",
    "latitude = df.dropna()[\"pickup_centroid_latitude\"].to_numpy()\n",
    "longitude = df.dropna()[\"pickup_centroid_longitude\"].to_numpy()\n",
    "# Plot the 2D histogram\n",
    "fig, ax = plt.subplots(1, 1, figsize=(10, 6))\n",
    "hist = ax.hist2d(longitude, latitude, bins=50, density=True)\n",
    "ax.set_aspect(1.3, \"box\")\n",
    "fig.colorbar(hist[3])\n",
    "ax.set_xlabel(\"Longitude (degrees)\")\n",
    "ax.set_ylabel(\"Latitude (degrees)\")"
   ]
  },
  {
   "cell_type": "markdown",
   "metadata": {},
   "source": [
    "What you have just plotted is a joint distribution! Joint distributions are distributions where a variable (in your case `tip`) is distributed across multiple variables (in your case latitude and longitude).\n",
    "\n",
    "Looking at the distribution, it seems you have many rides in the middle right of the plot, which is likely to be downtown Chicago. But then there are also quite a few rides in the top left corner, very far away from everything else. What could there be at that location? \n",
    "\n",
    "To answer this question, you can actually produce an interactive map. Run the following code to do so, plotting the same points on an actual map of Chicago. In reality this cell is only going to plot a limited number of your data points, even from this downsampled data set, to ensure the map renders quickly enough. Check the locations on the map to see where the majority of the points are and what the location in the upper left could be.\n",
    "\n",
    "Note generating this map is a more resource intensive operation and can sometimes fail. If the map doesn't render after a short wait, you can try re-running the cell."
   ]
  },
  {
   "cell_type": "code",
   "execution_count": null,
   "metadata": {},
   "outputs": [],
   "source": [
    "# Define the function for plotting an interactive map\n",
    "def interactive_map(df, n_samples=4000):\n",
    "    \n",
    "    points = df[[\"pickup_centroid_longitude\", \"pickup_centroid_latitude\"]].dropna()[0:n_samples]\n",
    "    \n",
    "    latitude = points.iloc[0][\"pickup_centroid_latitude\"]\n",
    "    longitude = points.iloc[0][\"pickup_centroid_longitude\"]\n",
    "    \n",
    "    map3 = folium.Map(location=[latitude, longitude], zoom_start=9)\n",
    "\n",
    "    marker_cluster = FastMarkerCluster([]).add_to(map3)\n",
    "    \n",
    "    for index, row in points.iterrows():\n",
    "        latitude = row[\"pickup_centroid_latitude\"]\n",
    "        longitude = row[\"pickup_centroid_longitude\"]\n",
    "        folium.Marker((latitude, longitude), icon=folium.Icon(color=\"green\")).add_to(marker_cluster)\n",
    "\n",
    "    return map3\n",
    "\n",
    "# Run the function\n",
    "# If the map doesn’t render, first try re-running this cell. If that doesn’t work, \n",
    "# you can restart the kernel (from the Kernel menu above) and try running the notebook again\n",
    "interactive_map(df)"
   ]
  },
  {
   "cell_type": "markdown",
   "metadata": {},
   "source": [
    "If you inspect the map carefully, you probably noticed that the rides from the top left corner come from the Chicago O'Hare International Airport. Run the code below to isolate these rides by their latitude and longitude and inspect them."
   ]
  },
  {
   "cell_type": "code",
   "execution_count": null,
   "metadata": {},
   "outputs": [],
   "source": [
    "# Select all of the rides starting at the airport\n",
    "airport_rides = df[\n",
    "    (df[\"pickup_centroid_longitude\"] < -87.9) &\n",
    "    (df[\"pickup_centroid_latitude\"] > 41.97) &\n",
    "    (df[\"pickup_centroid_latitude\"] < 41.99)\n",
    "]\n",
    "\n",
    "airport_df_tippers = airport_rides[airport_rides['tip'] > 0]\n",
    "\n",
    "# Plot the boxplot of tips for each hour\n",
    "plt.figure()\n",
    "airport_df_tippers.boxplot(column='tip', by='hour')\n",
    "\n",
    "# Calculate the percentage of tippers\n",
    "airport_tippers_hourly = airport_df_tippers.groupby([\"hour\"])[\"tip\"].count() / airport_rides.groupby([\"hour\"])[\"tip\"].count() * 100\n",
    "\n",
    "# Plot the percentage of tippers\n",
    "plt.figure()\n",
    "airport_tippers_hourly.plot(marker=\"o\", title=\"Percentage of Tippers on Rides From the Airport\")"
   ]
  },
  {
   "cell_type": "markdown",
   "metadata": {},
   "source": [
    "As you can see the percentage of the people who tip is much higher for the rides that start at the airport. Looks like this is a good place to be as a driver!\n",
    "\n",
    "**Congratulations on finishing this lab.** You have seen the implementation of quite a few concepts covered in this course: probabilities, descriptive statistics, such as mean, median, standard deviation and quartiles, you plotted box plots and a 2D histogram to represent a joint distribution and you looked into marginal distributions. On top of that you have practiced Pandas and plotting. If you liked this exercise, look out for another similar notebook next week!"
   ]
  },
  {
   "cell_type": "code",
   "execution_count": null,
   "metadata": {},
   "outputs": [],
   "source": []
  }
 ],
 "metadata": {
  "colab": {
   "private_outputs": true,
   "provenance": []
  },
  "kernelspec": {
   "display_name": "Python 3 (ipykernel)",
   "language": "python",
   "name": "python3"
  },
  "language_info": {
   "codemirror_mode": {
    "name": "ipython",
    "version": 3
   },
   "file_extension": ".py",
   "mimetype": "text/x-python",
   "name": "python",
   "nbconvert_exporter": "python",
   "pygments_lexer": "ipython3",
   "version": "3.10.11"
  }
 },
 "nbformat": 4,
 "nbformat_minor": 1
}
